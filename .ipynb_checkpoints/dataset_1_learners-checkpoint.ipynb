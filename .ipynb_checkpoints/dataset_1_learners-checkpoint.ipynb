{
 "cells": [
  {
   "cell_type": "code",
   "execution_count": null,
   "id": "6fb881cc",
   "metadata": {},
   "outputs": [],
   "source": [
    "from sklearn.model_selection import validation_curve, cross_val_score, GridSearchCV, cross_validate, train_test_split\n",
    "from sklearn.preprocessing import StandardScaler, normalize\n",
    "from sklearn.tree import DecisionTreeClassifier\n",
    "from sklearn.neural_network import MLPClassifier\n",
    "from sklearn.ensemble import GradientBoostingClassifier\n",
    "from sklearn.svm import SVC\n",
    "from sklearn.neighbors import KNeighborsClassifier\n",
    "from sklearn.metrics import accuracy_score, classification_report, confusion_matrix, f1_score\n",
    "\n",
    "import scipy as sp\n",
    "import numpy as np\n",
    "import pandas as pd\n",
    "import seaborn as sbn\n",
    "import matplotlib as plt\n",
    "import time\n",
    "\n",
    "#random state\n",
    "rs = 142"
   ]
  },
  {
   "cell_type": "code",
   "execution_count": null,
   "id": "16497886",
   "metadata": {},
   "outputs": [],
   "source": [
    "# import datasets\n",
    "dataset_1 = pd.read_csv(\"datasets/online_shoppers_intention.csv\")"
   ]
  },
  {
   "cell_type": "code",
   "execution_count": null,
   "id": "1451503a",
   "metadata": {},
   "outputs": [],
   "source": [
    "pd.set_option(\"display.max_rows\", None)\n",
    "print(dataset_1.info())\n",
    "dataset_1.head(100)"
   ]
  },
  {
   "cell_type": "code",
   "execution_count": null,
   "id": "d2e8a2f8",
   "metadata": {},
   "outputs": [],
   "source": [
    "print(dataset_1.shape)\n",
    "dataset_1.isna().any().any()"
   ]
  },
  {
   "cell_type": "code",
   "execution_count": null,
   "id": "f19a0cbf",
   "metadata": {},
   "outputs": [],
   "source": [
    "for col in dataset_1:\n",
    "  print(dataset_1[col].unique())"
   ]
  },
  {
   "cell_type": "code",
   "execution_count": null,
   "id": "aa1410a3",
   "metadata": {},
   "outputs": [],
   "source": [
    "# Weekend -> False is 0, True is 1\n",
    "# Revenue -> False is 0, True is 1\n",
    "# VisitorType -> New_Visitor is 0, Returning_Visitor is 1 (drop rows with \"Other\" because value is unspecified)\n",
    "dataset_1.loc[dataset_1[\"Weekend\"] == True, \"Weekend\"] = 1\n",
    "dataset_1.loc[dataset_1[\"Weekend\"] == False, \"Weekend\"] = 0\n",
    "dataset_1.loc[dataset_1[\"Revenue\"] == True, \"Revenue\"] = 1\n",
    "dataset_1.loc[dataset_1[\"Revenue\"] == False, \"Revenue\"] = 0\n",
    "dataset_1.loc[dataset_1[\"VisitorType\"] == \"New_Visitor\", \"VisitorType\"] = 1\n",
    "dataset_1.loc[dataset_1[\"VisitorType\"] == \"Returning_Visitor\", \"VisitorType\"] = 0\n",
    "dataset_1.drop(dataset_1[dataset_1.VisitorType == \"Other\"].index, inplace=True)"
   ]
  },
  {
   "cell_type": "code",
   "execution_count": null,
   "id": "e65f50f4",
   "metadata": {},
   "outputs": [],
   "source": [
    "dataset_1.describe()"
   ]
  },
  {
   "cell_type": "code",
   "execution_count": null,
   "id": "f35a3533",
   "metadata": {},
   "outputs": [],
   "source": [
    "dataset_1.head(100)"
   ]
  },
  {
   "cell_type": "markdown",
   "id": "1f073304",
   "metadata": {},
   "source": [
    "<h2>Dataset 1 Training and Hypertuning</h2>"
   ]
  },
  {
   "cell_type": "code",
   "execution_count": null,
   "id": "1402b3b7",
   "metadata": {},
   "outputs": [],
   "source": [
    "# split into train, validation and testing sets\n"
   ]
  },
  {
   "cell_type": "code",
   "execution_count": null,
   "id": "d6514438",
   "metadata": {},
   "outputs": [],
   "source": [
    "# Decision Tree\n",
    "clf = DecisionTreeClassifier(criterion='gini')\n",
    "clf.fit(train_X, train_y)"
   ]
  },
  {
   "cell_type": "code",
   "execution_count": null,
   "id": "8f72bf6e",
   "metadata": {},
   "outputs": [],
   "source": []
  },
  {
   "cell_type": "code",
   "execution_count": null,
   "id": "0424d925",
   "metadata": {},
   "outputs": [],
   "source": [
    "# Neural Network\n"
   ]
  },
  {
   "cell_type": "code",
   "execution_count": null,
   "id": "206b70e1",
   "metadata": {},
   "outputs": [],
   "source": []
  },
  {
   "cell_type": "code",
   "execution_count": null,
   "id": "efcdfe6b",
   "metadata": {},
   "outputs": [],
   "source": [
    "# Boosting\n"
   ]
  },
  {
   "cell_type": "code",
   "execution_count": null,
   "id": "116ce76f",
   "metadata": {},
   "outputs": [],
   "source": []
  },
  {
   "cell_type": "code",
   "execution_count": null,
   "id": "04bd203a",
   "metadata": {},
   "outputs": [],
   "source": [
    "# Support Vector Machines\n"
   ]
  },
  {
   "cell_type": "code",
   "execution_count": null,
   "id": "a171916a",
   "metadata": {},
   "outputs": [],
   "source": []
  },
  {
   "cell_type": "code",
   "execution_count": null,
   "id": "4ff57298",
   "metadata": {},
   "outputs": [],
   "source": [
    "# k-nearest neighbor\n"
   ]
  },
  {
   "cell_type": "code",
   "execution_count": null,
   "id": "ad8bb1d1",
   "metadata": {},
   "outputs": [],
   "source": []
  },
  {
   "cell_type": "code",
   "execution_count": null,
   "id": "6fa5af80",
   "metadata": {},
   "outputs": [],
   "source": []
  }
 ],
 "metadata": {
  "kernelspec": {
   "display_name": "ML_HW1",
   "language": "python",
   "name": "ml_hw1"
  },
  "language_info": {
   "codemirror_mode": {
    "name": "ipython",
    "version": 3
   },
   "file_extension": ".py",
   "mimetype": "text/x-python",
   "name": "python",
   "nbconvert_exporter": "python",
   "pygments_lexer": "ipython3",
   "version": "3.6.13"
  }
 },
 "nbformat": 4,
 "nbformat_minor": 5
}
